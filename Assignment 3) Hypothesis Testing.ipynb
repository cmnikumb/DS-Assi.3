{
 "cells": [
  {
   "cell_type": "markdown",
   "id": "ea467b6a",
   "metadata": {},
   "source": [
    "# Question 1)"
   ]
  },
  {
   "cell_type": "markdown",
   "id": "3b3b1cf0",
   "metadata": {},
   "source": [
    "##### A F&B manager wants to determine whether there is any significant difference in the diameter of the cutlet between two units. A randomly selected sample of cutlets was collected from both units and measured? Analyze the data and draw inferences at 5% significance level. Please state the assumptions and tests that you carried out to check validity of the assumptions."
   ]
  },
  {
   "cell_type": "markdown",
   "id": "dcdffd18",
   "metadata": {},
   "source": [
    "Step 1 : Define the Hypothesis.\n",
    "\n",
    "H0: µ1 = µ2 (no significant difference in the diameter.)\n",
    "\n",
    "Ha: µ1 ≠ µ2 (There is significant difference in the diameter.)\n",
    "\n",
    "Step 2 : Decide which test to be done.\n",
    "conduct t-test.\n",
    "\n",
    "Step 3 : Get the α value\n",
    "Significance = 5%\n",
    "α = 0.05\n",
    "\n",
    "Step 4 : Identify whether the test is one tailed or two tailed.\n",
    "it is a two-tailed test.\n",
    "\n",
    "α/2 = 0.025"
   ]
  },
  {
   "cell_type": "code",
   "execution_count": 117,
   "id": "d4c27651",
   "metadata": {
    "ExecuteTime": {
     "end_time": "2023-02-19T11:48:04.893129Z",
     "start_time": "2023-02-19T11:48:04.868855Z"
    }
   },
   "outputs": [],
   "source": [
    "import pandas as pd \n",
    "import numpy as np \n",
    "from scipy import stats\n",
    "import statsmodels.api as sm\n",
    "import scipy"
   ]
  },
  {
   "cell_type": "code",
   "execution_count": 118,
   "id": "b5c65b8d",
   "metadata": {
    "ExecuteTime": {
     "end_time": "2023-02-19T11:48:05.562093Z",
     "start_time": "2023-02-19T11:48:05.487923Z"
    }
   },
   "outputs": [],
   "source": [
    "df = pd.read_csv(r\"C:\\Users\\Chinmay\\Desktop\\DA-DS\\Assignment\\DS\\assignment 3\\Cutlets.csv\")"
   ]
  },
  {
   "cell_type": "code",
   "execution_count": 119,
   "id": "2d9a8bb2",
   "metadata": {
    "ExecuteTime": {
     "end_time": "2023-02-19T11:48:06.235907Z",
     "start_time": "2023-02-19T11:48:06.194874Z"
    }
   },
   "outputs": [
    {
     "data": {
      "text/html": [
       "<div>\n",
       "<style scoped>\n",
       "    .dataframe tbody tr th:only-of-type {\n",
       "        vertical-align: middle;\n",
       "    }\n",
       "\n",
       "    .dataframe tbody tr th {\n",
       "        vertical-align: top;\n",
       "    }\n",
       "\n",
       "    .dataframe thead th {\n",
       "        text-align: right;\n",
       "    }\n",
       "</style>\n",
       "<table border=\"1\" class=\"dataframe\">\n",
       "  <thead>\n",
       "    <tr style=\"text-align: right;\">\n",
       "      <th></th>\n",
       "      <th>Unit A</th>\n",
       "      <th>Unit B</th>\n",
       "    </tr>\n",
       "  </thead>\n",
       "  <tbody>\n",
       "    <tr>\n",
       "      <th>0</th>\n",
       "      <td>6.8090</td>\n",
       "      <td>6.7703</td>\n",
       "    </tr>\n",
       "    <tr>\n",
       "      <th>1</th>\n",
       "      <td>6.4376</td>\n",
       "      <td>7.5093</td>\n",
       "    </tr>\n",
       "    <tr>\n",
       "      <th>2</th>\n",
       "      <td>6.9157</td>\n",
       "      <td>6.7300</td>\n",
       "    </tr>\n",
       "    <tr>\n",
       "      <th>3</th>\n",
       "      <td>7.3012</td>\n",
       "      <td>6.7878</td>\n",
       "    </tr>\n",
       "    <tr>\n",
       "      <th>4</th>\n",
       "      <td>7.4488</td>\n",
       "      <td>7.1522</td>\n",
       "    </tr>\n",
       "  </tbody>\n",
       "</table>\n",
       "</div>"
      ],
      "text/plain": [
       "   Unit A  Unit B\n",
       "0  6.8090  6.7703\n",
       "1  6.4376  7.5093\n",
       "2  6.9157  6.7300\n",
       "3  7.3012  6.7878\n",
       "4  7.4488  7.1522"
      ]
     },
     "execution_count": 119,
     "metadata": {},
     "output_type": "execute_result"
    }
   ],
   "source": [
    "df.head()"
   ]
  },
  {
   "cell_type": "code",
   "execution_count": 120,
   "id": "cde5a25e",
   "metadata": {
    "ExecuteTime": {
     "end_time": "2023-02-19T11:48:07.338816Z",
     "start_time": "2023-02-19T11:48:07.331806Z"
    }
   },
   "outputs": [],
   "source": [
    "unit1 = pd.Series(df['Unit A'])\n",
    "unit2 = pd.Series(df['Unit B'])"
   ]
  },
  {
   "cell_type": "code",
   "execution_count": 121,
   "id": "f0fb71ef",
   "metadata": {
    "ExecuteTime": {
     "end_time": "2023-02-19T11:48:16.107312Z",
     "start_time": "2023-02-19T11:48:16.092730Z"
    }
   },
   "outputs": [],
   "source": [
    "t_stat, p_value = stats.ttest_ind(unit1, unit2)"
   ]
  },
  {
   "cell_type": "code",
   "execution_count": 122,
   "id": "a40eb9c8",
   "metadata": {
    "ExecuteTime": {
     "end_time": "2023-02-19T11:48:16.727944Z",
     "start_time": "2023-02-19T11:48:16.697373Z"
    }
   },
   "outputs": [
    {
     "name": "stdout",
     "output_type": "stream",
     "text": [
      "T - Statistics : 0.7228688704678063\n",
      "P - Value : 0.4722394724599501\n"
     ]
    }
   ],
   "source": [
    "print(\"T - Statistics :\",t_stat)\n",
    "print(\"P - Value :\",p_value)"
   ]
  },
  {
   "cell_type": "code",
   "execution_count": 123,
   "id": "0b036272",
   "metadata": {
    "ExecuteTime": {
     "end_time": "2023-02-19T11:48:17.907436Z",
     "start_time": "2023-02-19T11:48:17.886590Z"
    }
   },
   "outputs": [
    {
     "name": "stdout",
     "output_type": "stream",
     "text": [
      "Reject null hypothesis : 0.47 < 0.5\n"
     ]
    }
   ],
   "source": [
    "alpha = 0.5\n",
    "if p_value < alpha:\n",
    "        print(\"Reject null hypothesis : 0.47 < 0.5\")\n",
    "else:\n",
    "        print(\"Failed to reject null hypothesis\")\n",
    "    "
   ]
  },
  {
   "cell_type": "markdown",
   "id": "c71cfd45",
   "metadata": {},
   "source": [
    "as per rule : \n",
    "\n",
    "P - value < alpha value = Reject Null Hypothesis\n",
    "\n",
    "p - value > alpha value = failed to Reject Null Hypothesis\n",
    "\n",
    "In this case \"Reject Null Hypothesis\"\n",
    "\n",
    "Hence, \n",
    "\n",
    "There is significant difference in the diameter."
   ]
  },
  {
   "cell_type": "code",
   "execution_count": null,
   "id": "98ddd18a",
   "metadata": {},
   "outputs": [],
   "source": []
  },
  {
   "cell_type": "markdown",
   "id": "72252bd5",
   "metadata": {
    "ExecuteTime": {
     "end_time": "2023-02-17T11:07:20.158660Z",
     "start_time": "2023-02-17T11:07:20.118670Z"
    }
   },
   "source": [
    "# Question 2)"
   ]
  },
  {
   "cell_type": "markdown",
   "id": "d065b6c7",
   "metadata": {},
   "source": [
    "#####  A hospital wants to determine whether there is any difference in the average Turn Around Time (TAT) of reports of the laboratories on their preferred list. They collected a random sample and recorded TAT for reports of 4 laboratories. TAT is defined as sample collected to report dispatch.Analyze the data and determine whether there is any difference in average TAT among the different laboratories at 5% significance level."
   ]
  },
  {
   "cell_type": "markdown",
   "id": "a086e497",
   "metadata": {},
   "source": [
    "Step 1 : Define the Hypothesis.\n",
    "\n",
    "H0: µ1 = µ2 (No, there is no any difference in Turn Around Time(TAT).)\n",
    "\n",
    "Ha: µ1 ≠ µ2 (There is atleast one of them is different in Turn Around Time(TAT).)\n",
    "\n",
    "Step 2 : Decide which test to be done. conduct ANOVA test because there is more than 2 samples.\n",
    "\n",
    "Step 3 : Get the α value Significance = 5% α = 0.05\n"
   ]
  },
  {
   "cell_type": "code",
   "execution_count": 124,
   "id": "c93064d2",
   "metadata": {
    "ExecuteTime": {
     "end_time": "2023-02-19T11:48:21.369421Z",
     "start_time": "2023-02-19T11:48:21.346075Z"
    }
   },
   "outputs": [],
   "source": [
    "df = pd.read_csv(r\"C:\\Users\\Chinmay\\Desktop\\DA-DS\\Assignment\\DS\\assignment 3\\LabTAT.csv\")"
   ]
  },
  {
   "cell_type": "code",
   "execution_count": 125,
   "id": "8c09e0e0",
   "metadata": {
    "ExecuteTime": {
     "end_time": "2023-02-19T11:48:22.007465Z",
     "start_time": "2023-02-19T11:48:21.975171Z"
    }
   },
   "outputs": [
    {
     "data": {
      "text/html": [
       "<div>\n",
       "<style scoped>\n",
       "    .dataframe tbody tr th:only-of-type {\n",
       "        vertical-align: middle;\n",
       "    }\n",
       "\n",
       "    .dataframe tbody tr th {\n",
       "        vertical-align: top;\n",
       "    }\n",
       "\n",
       "    .dataframe thead th {\n",
       "        text-align: right;\n",
       "    }\n",
       "</style>\n",
       "<table border=\"1\" class=\"dataframe\">\n",
       "  <thead>\n",
       "    <tr style=\"text-align: right;\">\n",
       "      <th></th>\n",
       "      <th>Laboratory 1</th>\n",
       "      <th>Laboratory 2</th>\n",
       "      <th>Laboratory 3</th>\n",
       "      <th>Laboratory 4</th>\n",
       "    </tr>\n",
       "  </thead>\n",
       "  <tbody>\n",
       "    <tr>\n",
       "      <th>0</th>\n",
       "      <td>185.35</td>\n",
       "      <td>165.53</td>\n",
       "      <td>176.70</td>\n",
       "      <td>166.13</td>\n",
       "    </tr>\n",
       "    <tr>\n",
       "      <th>1</th>\n",
       "      <td>170.49</td>\n",
       "      <td>185.91</td>\n",
       "      <td>198.45</td>\n",
       "      <td>160.79</td>\n",
       "    </tr>\n",
       "    <tr>\n",
       "      <th>2</th>\n",
       "      <td>192.77</td>\n",
       "      <td>194.92</td>\n",
       "      <td>201.23</td>\n",
       "      <td>185.18</td>\n",
       "    </tr>\n",
       "    <tr>\n",
       "      <th>3</th>\n",
       "      <td>177.33</td>\n",
       "      <td>183.00</td>\n",
       "      <td>199.61</td>\n",
       "      <td>176.42</td>\n",
       "    </tr>\n",
       "    <tr>\n",
       "      <th>4</th>\n",
       "      <td>193.41</td>\n",
       "      <td>169.57</td>\n",
       "      <td>204.63</td>\n",
       "      <td>152.60</td>\n",
       "    </tr>\n",
       "  </tbody>\n",
       "</table>\n",
       "</div>"
      ],
      "text/plain": [
       "   Laboratory 1  Laboratory 2  Laboratory 3  Laboratory 4\n",
       "0        185.35        165.53        176.70        166.13\n",
       "1        170.49        185.91        198.45        160.79\n",
       "2        192.77        194.92        201.23        185.18\n",
       "3        177.33        183.00        199.61        176.42\n",
       "4        193.41        169.57        204.63        152.60"
      ]
     },
     "execution_count": 125,
     "metadata": {},
     "output_type": "execute_result"
    }
   ],
   "source": [
    "df.head()"
   ]
  },
  {
   "cell_type": "code",
   "execution_count": 126,
   "id": "a891987a",
   "metadata": {
    "ExecuteTime": {
     "end_time": "2023-02-19T11:48:22.652430Z",
     "start_time": "2023-02-19T11:48:22.620675Z"
    }
   },
   "outputs": [],
   "source": [
    "obj1 = pd.Series(df['Laboratory 1'])\n",
    "obj2 = pd.Series(df['Laboratory 2'])\n",
    "obj3 = pd.Series(df['Laboratory 3'])\n",
    "obj4 = pd.Series(df['Laboratory 4'])"
   ]
  },
  {
   "cell_type": "code",
   "execution_count": 127,
   "id": "2f7a45d1",
   "metadata": {
    "ExecuteTime": {
     "end_time": "2023-02-19T11:48:23.282205Z",
     "start_time": "2023-02-19T11:48:23.249234Z"
    }
   },
   "outputs": [],
   "source": [
    "f_stats,p_value = stats.f_oneway(obj1,obj2,obj3,obj4)"
   ]
  },
  {
   "cell_type": "code",
   "execution_count": 128,
   "id": "c18a215e",
   "metadata": {
    "ExecuteTime": {
     "end_time": "2023-02-19T11:48:23.975992Z",
     "start_time": "2023-02-19T11:48:23.943796Z"
    }
   },
   "outputs": [
    {
     "name": "stdout",
     "output_type": "stream",
     "text": [
      "F - Statistics : 118.70421654401437\n",
      "P - Value : 2.1156708949992414e-57\n"
     ]
    }
   ],
   "source": [
    "print(\"F - Statistics :\",f_stats)\n",
    "print(\"P - Value :\",p_value)"
   ]
  },
  {
   "cell_type": "code",
   "execution_count": 129,
   "id": "0cec7e9f",
   "metadata": {
    "ExecuteTime": {
     "end_time": "2023-02-19T11:48:24.832955Z",
     "start_time": "2023-02-19T11:48:24.793658Z"
    }
   },
   "outputs": [
    {
     "name": "stdout",
     "output_type": "stream",
     "text": [
      "Reject null hypothesis\n"
     ]
    }
   ],
   "source": [
    "alpha = 0.5\n",
    "if p_value < alpha:\n",
    "        print(\"Reject null hypothesis\")\n",
    "else:\n",
    "        print(\"Failed to reject null hypothesis\")\n",
    "    "
   ]
  },
  {
   "cell_type": "markdown",
   "id": "ab96efe3",
   "metadata": {},
   "source": [
    "as per rule : \n",
    "\n",
    "P - value < alpha value = Reject Null Hypothesis\n",
    "\n",
    "p - value > alpha value = failed to Reject Null Hypothesis\n",
    "\n",
    "In this case \"Reject Null Hypothesis\"\n",
    "\n",
    "Hence, \n",
    "\n",
    "There is atlest one of them is different in Turn Around Time(TAT)."
   ]
  },
  {
   "cell_type": "code",
   "execution_count": null,
   "id": "731dbe90",
   "metadata": {},
   "outputs": [],
   "source": []
  },
  {
   "cell_type": "markdown",
   "id": "ed7a0026",
   "metadata": {},
   "source": [
    "# Question 3)"
   ]
  },
  {
   "attachments": {},
   "cell_type": "markdown",
   "id": "35d7cada",
   "metadata": {},
   "source": [
    "##### Sales of products in four different regions is tabulated for males and females. Find if male-female buyer rations are similar across regions.!"
   ]
  },
  {
   "attachments": {},
   "cell_type": "markdown",
   "id": "0bfd1ee3",
   "metadata": {},
   "source": [
    "Step 1 : Define the Hypothesis.\n",
    "\n",
    "H0: µ1 = µ2 (All proportions are equal.)\n",
    "\n",
    "Ha: µ1 ≠ µ2 (Not all Proportions are equal.)\n",
    "\n",
    "Step 2 : Decide which test to be done. Chi-Square Test .\n",
    "\n",
    "Step 3 : Get the α value Significance = 5% α = 0.05"
   ]
  },
  {
   "cell_type": "code",
   "execution_count": 130,
   "id": "ef910479",
   "metadata": {
    "ExecuteTime": {
     "end_time": "2023-02-19T11:48:29.125689Z",
     "start_time": "2023-02-19T11:48:29.099088Z"
    }
   },
   "outputs": [],
   "source": [
    "df = pd.read_csv(r\"C:\\Users\\Chinmay\\Desktop\\DA-DS\\Assignment\\DS\\assignment 3\\BuyerRatio.csv\")"
   ]
  },
  {
   "cell_type": "code",
   "execution_count": 131,
   "id": "fe0abae2",
   "metadata": {
    "ExecuteTime": {
     "end_time": "2023-02-19T11:48:29.554981Z",
     "start_time": "2023-02-19T11:48:29.501538Z"
    }
   },
   "outputs": [
    {
     "data": {
      "text/html": [
       "<div>\n",
       "<style scoped>\n",
       "    .dataframe tbody tr th:only-of-type {\n",
       "        vertical-align: middle;\n",
       "    }\n",
       "\n",
       "    .dataframe tbody tr th {\n",
       "        vertical-align: top;\n",
       "    }\n",
       "\n",
       "    .dataframe thead th {\n",
       "        text-align: right;\n",
       "    }\n",
       "</style>\n",
       "<table border=\"1\" class=\"dataframe\">\n",
       "  <thead>\n",
       "    <tr style=\"text-align: right;\">\n",
       "      <th></th>\n",
       "      <th>Observed Values</th>\n",
       "      <th>East</th>\n",
       "      <th>West</th>\n",
       "      <th>North</th>\n",
       "      <th>South</th>\n",
       "    </tr>\n",
       "  </thead>\n",
       "  <tbody>\n",
       "    <tr>\n",
       "      <th>0</th>\n",
       "      <td>Males</td>\n",
       "      <td>50</td>\n",
       "      <td>142</td>\n",
       "      <td>131</td>\n",
       "      <td>70</td>\n",
       "    </tr>\n",
       "    <tr>\n",
       "      <th>1</th>\n",
       "      <td>Females</td>\n",
       "      <td>435</td>\n",
       "      <td>1523</td>\n",
       "      <td>1356</td>\n",
       "      <td>750</td>\n",
       "    </tr>\n",
       "  </tbody>\n",
       "</table>\n",
       "</div>"
      ],
      "text/plain": [
       "  Observed Values  East  West  North  South\n",
       "0           Males    50   142    131     70\n",
       "1         Females   435  1523   1356    750"
      ]
     },
     "execution_count": 131,
     "metadata": {},
     "output_type": "execute_result"
    }
   ],
   "source": [
    "df"
   ]
  },
  {
   "cell_type": "code",
   "execution_count": 132,
   "id": "a6916416",
   "metadata": {
    "ExecuteTime": {
     "end_time": "2023-02-19T11:48:30.059071Z",
     "start_time": "2023-02-19T11:48:30.019923Z"
    }
   },
   "outputs": [
    {
     "data": {
      "text/html": [
       "<div>\n",
       "<style scoped>\n",
       "    .dataframe tbody tr th:only-of-type {\n",
       "        vertical-align: middle;\n",
       "    }\n",
       "\n",
       "    .dataframe tbody tr th {\n",
       "        vertical-align: top;\n",
       "    }\n",
       "\n",
       "    .dataframe thead th {\n",
       "        text-align: right;\n",
       "    }\n",
       "</style>\n",
       "<table border=\"1\" class=\"dataframe\">\n",
       "  <thead>\n",
       "    <tr style=\"text-align: right;\">\n",
       "      <th></th>\n",
       "      <th>East</th>\n",
       "      <th>West</th>\n",
       "      <th>North</th>\n",
       "      <th>South</th>\n",
       "    </tr>\n",
       "  </thead>\n",
       "  <tbody>\n",
       "    <tr>\n",
       "      <th>0</th>\n",
       "      <td>50</td>\n",
       "      <td>142</td>\n",
       "      <td>131</td>\n",
       "      <td>70</td>\n",
       "    </tr>\n",
       "    <tr>\n",
       "      <th>1</th>\n",
       "      <td>435</td>\n",
       "      <td>1523</td>\n",
       "      <td>1356</td>\n",
       "      <td>750</td>\n",
       "    </tr>\n",
       "  </tbody>\n",
       "</table>\n",
       "</div>"
      ],
      "text/plain": [
       "   East  West  North  South\n",
       "0    50   142    131     70\n",
       "1   435  1523   1356    750"
      ]
     },
     "execution_count": 132,
     "metadata": {},
     "output_type": "execute_result"
    }
   ],
   "source": [
    "data = df.iloc[:,1:]\n",
    "data"
   ]
  },
  {
   "cell_type": "code",
   "execution_count": 133,
   "id": "fe5c9960",
   "metadata": {
    "ExecuteTime": {
     "end_time": "2023-02-19T11:48:30.550795Z",
     "start_time": "2023-02-19T11:48:30.522732Z"
    }
   },
   "outputs": [
    {
     "data": {
      "text/plain": [
       "array([[  50,  142,  131,   70],\n",
       "       [ 435, 1523, 1356,  750]], dtype=int64)"
      ]
     },
     "execution_count": 133,
     "metadata": {},
     "output_type": "execute_result"
    }
   ],
   "source": [
    "df1 = np.array(data)\n",
    "df1"
   ]
  },
  {
   "cell_type": "code",
   "execution_count": 134,
   "id": "e27fa6bd",
   "metadata": {
    "ExecuteTime": {
     "end_time": "2023-02-19T11:48:36.010393Z",
     "start_time": "2023-02-19T11:48:35.986344Z"
    }
   },
   "outputs": [],
   "source": [
    "chi,p_val,df,ex = stats.chi2_contingency(df1)"
   ]
  },
  {
   "cell_type": "code",
   "execution_count": 135,
   "id": "168fd922",
   "metadata": {
    "ExecuteTime": {
     "end_time": "2023-02-19T11:48:36.735456Z",
     "start_time": "2023-02-19T11:48:36.708407Z"
    }
   },
   "outputs": [
    {
     "name": "stdout",
     "output_type": "stream",
     "text": [
      "Chi - Statistics:  1.595945538661058\n",
      "P - Value:  0.6603094907091882\n",
      "Degree Of Freedom:  3\n",
      "Expected Frequencies:  [[  42.76531299  146.81287862  131.11756787   72.30424052]\n",
      " [ 442.23468701 1518.18712138 1355.88243213  747.69575948]]\n"
     ]
    }
   ],
   "source": [
    "print(\"Chi - Statistics: \",chi)\n",
    "print(\"P - Value: \",p_val)\n",
    "print(\"Degree Of Freedom: \",df)\n",
    "print(\"Expected Frequencies: \",ex)"
   ]
  },
  {
   "cell_type": "code",
   "execution_count": 136,
   "id": "913214d3",
   "metadata": {
    "ExecuteTime": {
     "end_time": "2023-02-19T11:48:37.548071Z",
     "start_time": "2023-02-19T11:48:37.516472Z"
    }
   },
   "outputs": [
    {
     "name": "stdout",
     "output_type": "stream",
     "text": [
      "Failed to reject null hypothesis\n"
     ]
    }
   ],
   "source": [
    "alpha = 0.5\n",
    "if p_val < alpha:\n",
    "        print(\"Reject null hypothesis\")\n",
    "else:\n",
    "        print(\"Failed to reject null hypothesis\")"
   ]
  },
  {
   "cell_type": "markdown",
   "id": "58444400",
   "metadata": {},
   "source": [
    "as per rule : \n",
    "\n",
    "P - value < alpha value = Reject Null Hypothesis\n",
    "\n",
    "p - value > alpha value = failed to Reject Null Hypothesis\n",
    "\n",
    "In this case \"Failed to reject Null Hypothesis\"\n",
    "\n",
    "Hence, \n",
    "\n",
    "All proportions are equal."
   ]
  },
  {
   "cell_type": "code",
   "execution_count": null,
   "id": "5af73bef",
   "metadata": {},
   "outputs": [],
   "source": []
  },
  {
   "cell_type": "markdown",
   "id": "e4af6995",
   "metadata": {},
   "source": [
    "# Question 4)"
   ]
  },
  {
   "attachments": {},
   "cell_type": "markdown",
   "id": "37e1be13",
   "metadata": {},
   "source": [
    "##### TeleCall uses 4 centers around the globe to process customer order forms. They audit a certain %  of the customer order forms. Any error in order form renders it defective and has to be reworked before processing.  The manager wants to check whether the defective %  varies by centre. Please analyze the data at 5% significance level and help the manager draw appropriate inferences"
   ]
  },
  {
   "cell_type": "markdown",
   "id": "7d977b44",
   "metadata": {},
   "source": [
    "Step 1 : Define the Hypothesis.\n",
    "\n",
    "H0: µ1 = µ2 (All 4 centers error percentages are same.)\n",
    "\n",
    "Ha: µ1 ≠ µ2 (atleast one of them error percentages are different.)\n",
    "\n",
    "Step 2 : Decide which test to be done. Chi-Square Test .\n",
    "\n",
    "Step 3 : Get the α value Significance = 5% α = 0.05"
   ]
  },
  {
   "cell_type": "code",
   "execution_count": 137,
   "id": "935b2ffd",
   "metadata": {
    "ExecuteTime": {
     "end_time": "2023-02-19T11:48:40.227119Z",
     "start_time": "2023-02-19T11:48:40.188601Z"
    }
   },
   "outputs": [
    {
     "data": {
      "text/html": [
       "<div>\n",
       "<style scoped>\n",
       "    .dataframe tbody tr th:only-of-type {\n",
       "        vertical-align: middle;\n",
       "    }\n",
       "\n",
       "    .dataframe tbody tr th {\n",
       "        vertical-align: top;\n",
       "    }\n",
       "\n",
       "    .dataframe thead th {\n",
       "        text-align: right;\n",
       "    }\n",
       "</style>\n",
       "<table border=\"1\" class=\"dataframe\">\n",
       "  <thead>\n",
       "    <tr style=\"text-align: right;\">\n",
       "      <th></th>\n",
       "      <th>Phillippines</th>\n",
       "      <th>Indonesia</th>\n",
       "      <th>Malta</th>\n",
       "      <th>India</th>\n",
       "    </tr>\n",
       "  </thead>\n",
       "  <tbody>\n",
       "    <tr>\n",
       "      <th>0</th>\n",
       "      <td>Error Free</td>\n",
       "      <td>Error Free</td>\n",
       "      <td>Defective</td>\n",
       "      <td>Error Free</td>\n",
       "    </tr>\n",
       "    <tr>\n",
       "      <th>1</th>\n",
       "      <td>Error Free</td>\n",
       "      <td>Error Free</td>\n",
       "      <td>Error Free</td>\n",
       "      <td>Defective</td>\n",
       "    </tr>\n",
       "    <tr>\n",
       "      <th>2</th>\n",
       "      <td>Error Free</td>\n",
       "      <td>Defective</td>\n",
       "      <td>Defective</td>\n",
       "      <td>Error Free</td>\n",
       "    </tr>\n",
       "    <tr>\n",
       "      <th>3</th>\n",
       "      <td>Error Free</td>\n",
       "      <td>Error Free</td>\n",
       "      <td>Error Free</td>\n",
       "      <td>Error Free</td>\n",
       "    </tr>\n",
       "    <tr>\n",
       "      <th>4</th>\n",
       "      <td>Error Free</td>\n",
       "      <td>Error Free</td>\n",
       "      <td>Defective</td>\n",
       "      <td>Error Free</td>\n",
       "    </tr>\n",
       "    <tr>\n",
       "      <th>...</th>\n",
       "      <td>...</td>\n",
       "      <td>...</td>\n",
       "      <td>...</td>\n",
       "      <td>...</td>\n",
       "    </tr>\n",
       "    <tr>\n",
       "      <th>295</th>\n",
       "      <td>Error Free</td>\n",
       "      <td>Error Free</td>\n",
       "      <td>Error Free</td>\n",
       "      <td>Error Free</td>\n",
       "    </tr>\n",
       "    <tr>\n",
       "      <th>296</th>\n",
       "      <td>Error Free</td>\n",
       "      <td>Error Free</td>\n",
       "      <td>Error Free</td>\n",
       "      <td>Error Free</td>\n",
       "    </tr>\n",
       "    <tr>\n",
       "      <th>297</th>\n",
       "      <td>Error Free</td>\n",
       "      <td>Error Free</td>\n",
       "      <td>Defective</td>\n",
       "      <td>Error Free</td>\n",
       "    </tr>\n",
       "    <tr>\n",
       "      <th>298</th>\n",
       "      <td>Error Free</td>\n",
       "      <td>Error Free</td>\n",
       "      <td>Error Free</td>\n",
       "      <td>Error Free</td>\n",
       "    </tr>\n",
       "    <tr>\n",
       "      <th>299</th>\n",
       "      <td>Error Free</td>\n",
       "      <td>Defective</td>\n",
       "      <td>Defective</td>\n",
       "      <td>Error Free</td>\n",
       "    </tr>\n",
       "  </tbody>\n",
       "</table>\n",
       "<p>300 rows × 4 columns</p>\n",
       "</div>"
      ],
      "text/plain": [
       "    Phillippines   Indonesia       Malta       India\n",
       "0     Error Free  Error Free   Defective  Error Free\n",
       "1     Error Free  Error Free  Error Free   Defective\n",
       "2     Error Free   Defective   Defective  Error Free\n",
       "3     Error Free  Error Free  Error Free  Error Free\n",
       "4     Error Free  Error Free   Defective  Error Free\n",
       "..           ...         ...         ...         ...\n",
       "295   Error Free  Error Free  Error Free  Error Free\n",
       "296   Error Free  Error Free  Error Free  Error Free\n",
       "297   Error Free  Error Free   Defective  Error Free\n",
       "298   Error Free  Error Free  Error Free  Error Free\n",
       "299   Error Free   Defective   Defective  Error Free\n",
       "\n",
       "[300 rows x 4 columns]"
      ]
     },
     "execution_count": 137,
     "metadata": {},
     "output_type": "execute_result"
    }
   ],
   "source": [
    "df = pd.read_csv(r\"C:\\Users\\Chinmay\\Desktop\\DA-DS\\Assignment\\DS\\assignment 3\\Costomer+OrderForm.csv\")\n",
    "df"
   ]
  },
  {
   "cell_type": "code",
   "execution_count": 138,
   "id": "4343dec0",
   "metadata": {
    "ExecuteTime": {
     "end_time": "2023-02-19T11:48:40.710834Z",
     "start_time": "2023-02-19T11:48:40.638935Z"
    }
   },
   "outputs": [
    {
     "data": {
      "text/html": [
       "<div>\n",
       "<style scoped>\n",
       "    .dataframe tbody tr th:only-of-type {\n",
       "        vertical-align: middle;\n",
       "    }\n",
       "\n",
       "    .dataframe tbody tr th {\n",
       "        vertical-align: top;\n",
       "    }\n",
       "\n",
       "    .dataframe thead th {\n",
       "        text-align: right;\n",
       "    }\n",
       "</style>\n",
       "<table border=\"1\" class=\"dataframe\">\n",
       "  <thead>\n",
       "    <tr style=\"text-align: right;\">\n",
       "      <th></th>\n",
       "      <th>Phillippines</th>\n",
       "      <th>Indonesia</th>\n",
       "      <th>Malta</th>\n",
       "      <th>India</th>\n",
       "    </tr>\n",
       "  </thead>\n",
       "  <tbody>\n",
       "    <tr>\n",
       "      <th>count</th>\n",
       "      <td>300</td>\n",
       "      <td>300</td>\n",
       "      <td>300</td>\n",
       "      <td>300</td>\n",
       "    </tr>\n",
       "    <tr>\n",
       "      <th>unique</th>\n",
       "      <td>2</td>\n",
       "      <td>2</td>\n",
       "      <td>2</td>\n",
       "      <td>2</td>\n",
       "    </tr>\n",
       "    <tr>\n",
       "      <th>top</th>\n",
       "      <td>Error Free</td>\n",
       "      <td>Error Free</td>\n",
       "      <td>Error Free</td>\n",
       "      <td>Error Free</td>\n",
       "    </tr>\n",
       "    <tr>\n",
       "      <th>freq</th>\n",
       "      <td>271</td>\n",
       "      <td>267</td>\n",
       "      <td>269</td>\n",
       "      <td>280</td>\n",
       "    </tr>\n",
       "  </tbody>\n",
       "</table>\n",
       "</div>"
      ],
      "text/plain": [
       "       Phillippines   Indonesia       Malta       India\n",
       "count           300         300         300         300\n",
       "unique            2           2           2           2\n",
       "top      Error Free  Error Free  Error Free  Error Free\n",
       "freq            271         267         269         280"
      ]
     },
     "execution_count": 138,
     "metadata": {},
     "output_type": "execute_result"
    }
   ],
   "source": [
    "df.describe()"
   ]
  },
  {
   "cell_type": "code",
   "execution_count": 139,
   "id": "8fd08471",
   "metadata": {
    "ExecuteTime": {
     "end_time": "2023-02-19T11:48:41.126627Z",
     "start_time": "2023-02-19T11:48:41.081747Z"
    }
   },
   "outputs": [],
   "source": [
    "d1 = df.value_counts(df['Phillippines'])\n",
    "d2 = df.value_counts(df['Indonesia'])\n",
    "d3 = df.value_counts(df['Malta'])\n",
    "d4 = df.value_counts(df['India'])\n",
    "customer = d1,d2,d3,d4"
   ]
  },
  {
   "cell_type": "code",
   "execution_count": 140,
   "id": "e39249d2",
   "metadata": {
    "ExecuteTime": {
     "end_time": "2023-02-19T11:48:41.551187Z",
     "start_time": "2023-02-19T11:48:41.528001Z"
    }
   },
   "outputs": [],
   "source": [
    "obj = np.array(customer)"
   ]
  },
  {
   "cell_type": "code",
   "execution_count": 141,
   "id": "5eb926ed",
   "metadata": {
    "ExecuteTime": {
     "end_time": "2023-02-19T11:48:42.004441Z",
     "start_time": "2023-02-19T11:48:41.975526Z"
    }
   },
   "outputs": [],
   "source": [
    "chi,p_val,df,ex = stats.chi2_contingency(obj)"
   ]
  },
  {
   "cell_type": "code",
   "execution_count": 142,
   "id": "334f633d",
   "metadata": {
    "ExecuteTime": {
     "end_time": "2023-02-19T11:48:42.439816Z",
     "start_time": "2023-02-19T11:48:42.418362Z"
    }
   },
   "outputs": [
    {
     "name": "stdout",
     "output_type": "stream",
     "text": [
      "Chi - Statistics:  3.8589606858203545\n",
      "P - Value:  0.2771020991233144\n",
      "Degree Of Freedom:  3\n",
      "Expected Frequencies:  [[271.75  28.25]\n",
      " [271.75  28.25]\n",
      " [271.75  28.25]\n",
      " [271.75  28.25]]\n"
     ]
    }
   ],
   "source": [
    "print(\"Chi - Statistics: \",chi)\n",
    "print(\"P - Value: \",p_val)\n",
    "print(\"Degree Of Freedom: \",df)\n",
    "print(\"Expected Frequencies: \",ex)"
   ]
  },
  {
   "cell_type": "code",
   "execution_count": 143,
   "id": "53cb92fb",
   "metadata": {
    "ExecuteTime": {
     "end_time": "2023-02-19T11:48:42.866172Z",
     "start_time": "2023-02-19T11:48:42.849903Z"
    }
   },
   "outputs": [
    {
     "name": "stdout",
     "output_type": "stream",
     "text": [
      "Reject null hypothesis\n"
     ]
    }
   ],
   "source": [
    "alpha = 0.5\n",
    "if p_val < alpha:\n",
    "        print(\"Reject null hypothesis\")\n",
    "else:\n",
    "        print(\"Failed to reject null hypothesis\")"
   ]
  },
  {
   "cell_type": "markdown",
   "id": "ca516553",
   "metadata": {},
   "source": [
    "as per rule : \n",
    "\n",
    "P - value < alpha value = Reject Null Hypothesis\n",
    "\n",
    "p - value > alpha value = failed to Reject Null Hypothesis\n",
    "\n",
    "In this case \" reject Null Hypothesis\"\n",
    "\n",
    "Hence, \n",
    "\n",
    "atleast one of them error percentages are different.."
   ]
  },
  {
   "cell_type": "code",
   "execution_count": null,
   "id": "17b65f5a",
   "metadata": {},
   "outputs": [],
   "source": []
  }
 ],
 "metadata": {
  "kernelspec": {
   "display_name": "Python 3 (ipykernel)",
   "language": "python",
   "name": "python3"
  },
  "language_info": {
   "codemirror_mode": {
    "name": "ipython",
    "version": 3
   },
   "file_extension": ".py",
   "mimetype": "text/x-python",
   "name": "python",
   "nbconvert_exporter": "python",
   "pygments_lexer": "ipython3",
   "version": "3.9.13"
  }
 },
 "nbformat": 4,
 "nbformat_minor": 5
}
